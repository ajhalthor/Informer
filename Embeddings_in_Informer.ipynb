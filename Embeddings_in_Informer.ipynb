{
  "nbformat": 4,
  "nbformat_minor": 0,
  "metadata": {
    "colab": {
      "provenance": []
    },
    "kernelspec": {
      "name": "python3",
      "display_name": "Python 3"
    },
    "language_info": {
      "name": "python"
    }
  },
  "cells": [
    {
      "cell_type": "markdown",
      "source": [
        "Embedding representation of each vector in the time series is  constructed from 3 embeddings:\n",
        "- A projection: A vector projection of the current input\n",
        "- Local time stamp embedding\n",
        "- Global time stamp embedding\n",
        "\n",
        "Position encoding is the local time stamp embedding. It only provides the ordering of data points. However, time series data needs to be more context aware of weekdays vs weekends, holidays and special events. To encode this information, we include a global time stamp embedding that incorperates:\n",
        "- Hierarchical time events (hours, minutes, seconds, day, week)\n",
        "- Special events (hoidays)"
      ],
      "metadata": {
        "id": "tLn-P4Li8LcS"
      }
    },
    {
      "cell_type": "code",
      "execution_count": null,
      "metadata": {
        "id": "85ZDPaU27xfm"
      },
      "outputs": [],
      "source": [
        "from torch import nn\n",
        "import torch"
      ]
    },
    {
      "cell_type": "markdown",
      "source": [
        "# Projection"
      ],
      "metadata": {
        "id": "lA8RMG4j8QJR"
      }
    },
    {
      "cell_type": "markdown",
      "source": [
        "![Conv 1D](https://discuss.pytorch.org/uploads/default/original/3X/5/f/5faf64f4eb86dd37121774c720877b1d44f7f617.gif)"
      ],
      "metadata": {
        "id": "-8A8Ap6CGMMp"
      }
    },
    {
      "cell_type": "code",
      "source": [
        "c_in = 3 # Number of features per input time stamp\n",
        "c_out = d_model = 4 # The number of features we want to project for each time stamp\n",
        "sequence_length = L_Q = L_K = L_V = 10\n",
        "n_heads = 1\n",
        "batch_size = 2\n",
        "\n",
        "x = torch.randn( (batch_size, sequence_length, c_in) )"
      ],
      "metadata": {
        "id": "3YP5CR698P5J"
      },
      "execution_count": null,
      "outputs": []
    },
    {
      "cell_type": "code",
      "source": [
        "x"
      ],
      "metadata": {
        "colab": {
          "base_uri": "https://localhost:8080/"
        },
        "id": "0J8SGx7N8WJG",
        "outputId": "bdc2bba9-8a72-4848-eafc-29db7ad0de09"
      },
      "execution_count": null,
      "outputs": [
        {
          "output_type": "execute_result",
          "data": {
            "text/plain": [
              "tensor([[[ 0.6890, -0.9911, -1.8774],\n",
              "         [ 0.1350, -0.5215, -0.2963],\n",
              "         [ 0.5942, -0.8601,  1.0417],\n",
              "         [-1.5380,  1.0780,  1.0357],\n",
              "         [-0.5142, -0.0160, -0.6396],\n",
              "         [-0.7799, -0.3531,  0.6835],\n",
              "         [ 0.6796, -0.9898, -0.0750],\n",
              "         [-0.7833,  0.4132, -0.3299],\n",
              "         [-1.4058,  0.9521,  0.0413],\n",
              "         [ 0.1728, -1.1039,  0.1382]],\n",
              "\n",
              "        [[ 0.7377,  0.4342,  1.4384],\n",
              "         [ 1.5556, -0.1158, -1.2052],\n",
              "         [ 0.8334,  0.5213,  0.0516],\n",
              "         [ 0.2976, -0.1361,  0.3186],\n",
              "         [-1.3595,  1.2676,  0.5898],\n",
              "         [-1.0110, -1.1203, -2.0545],\n",
              "         [ 0.5777, -0.4785,  2.4316],\n",
              "         [-1.7078, -0.4486,  0.2782],\n",
              "         [ 1.0887, -0.0074, -0.2103],\n",
              "         [ 0.3970,  1.3127,  0.2000]]])"
            ]
          },
          "metadata": {},
          "execution_count": 3
        }
      ]
    },
    {
      "cell_type": "code",
      "source": [
        "x.shape"
      ],
      "metadata": {
        "colab": {
          "base_uri": "https://localhost:8080/"
        },
        "id": "QX9dwRwM8Udk",
        "outputId": "0d951d0a-7c01-4bac-a17b-1330c064ff8e"
      },
      "execution_count": null,
      "outputs": [
        {
          "output_type": "execute_result",
          "data": {
            "text/plain": [
              "torch.Size([2, 10, 3])"
            ]
          },
          "metadata": {},
          "execution_count": 4
        }
      ]
    },
    {
      "cell_type": "code",
      "source": [
        "tokenConv = nn.Conv1d(\n",
        "    in_channels=c_in,\n",
        "    out_channels=d_model,\n",
        "    kernel_size=3,\n",
        "    padding=1,\n",
        "    padding_mode='circular'\n",
        ")"
      ],
      "metadata": {
        "id": "dyHumw0s8b0p"
      },
      "execution_count": null,
      "outputs": []
    },
    {
      "cell_type": "code",
      "source": [
        "projection = tokenConv(x.permute(0, 2, 1))"
      ],
      "metadata": {
        "id": "NgGBTW_P8fSP"
      },
      "execution_count": null,
      "outputs": []
    },
    {
      "cell_type": "code",
      "source": [
        "projection = projection.transpose(1, 2)\n",
        "projection.shape"
      ],
      "metadata": {
        "colab": {
          "base_uri": "https://localhost:8080/"
        },
        "id": "z559-N9k8hoA",
        "outputId": "d3516d63-16d5-4187-ce52-4ea075473032"
      },
      "execution_count": null,
      "outputs": [
        {
          "output_type": "execute_result",
          "data": {
            "text/plain": [
              "torch.Size([2, 10, 4])"
            ]
          },
          "metadata": {},
          "execution_count": 7
        }
      ]
    },
    {
      "cell_type": "code",
      "source": [
        "projection"
      ],
      "metadata": {
        "colab": {
          "base_uri": "https://localhost:8080/"
        },
        "id": "mLBJKuSw8h-p",
        "outputId": "f636e31e-2dbe-44fb-fddc-e6198940042c"
      },
      "execution_count": null,
      "outputs": [
        {
          "output_type": "execute_result",
          "data": {
            "text/plain": [
              "tensor([[[ 0.7016,  0.6930,  0.3599, -1.0037],\n",
              "         [ 0.8856,  1.1300,  1.1661, -0.4213],\n",
              "         [ 0.5852,  1.2137, -0.2574,  0.4477],\n",
              "         [-0.0773, -0.0470,  0.2788,  0.0732],\n",
              "         [ 0.0610,  0.0740, -0.1659, -0.3673],\n",
              "         [ 0.8265, -0.0173,  0.2261, -0.1117],\n",
              "         [ 0.7131,  0.4631, -0.6574, -0.0875],\n",
              "         [ 0.0146,  0.6671,  0.7218,  0.0400],\n",
              "         [ 0.2215, -0.0841,  0.7647, -0.1248],\n",
              "         [ 0.9970, -0.7928, -0.9952, -0.1394]],\n",
              "\n",
              "        [[-0.1491, -0.7639, -1.0443, -0.2113],\n",
              "         [-0.5387,  0.1373, -0.6228, -1.3294],\n",
              "         [-0.0543,  0.8048,  0.5732, -0.2836],\n",
              "         [-0.3113,  0.5853, -0.2341,  0.0650],\n",
              "         [ 0.1387, -0.3098,  0.2476,  0.4547],\n",
              "         [ 0.0370,  0.0759,  0.5109, -1.5504],\n",
              "         [ 1.8057,  1.6076,  0.1172,  1.6382],\n",
              "         [-0.1589, -0.7862, -0.3747, -1.2088],\n",
              "         [ 0.5514,  0.4087, -0.3432, -0.2144],\n",
              "         [-0.5906,  0.7147,  0.6666, -0.5975]]], grad_fn=<TransposeBackward0>)"
            ]
          },
          "metadata": {},
          "execution_count": 8
        }
      ]
    },
    {
      "cell_type": "markdown",
      "source": [
        "# Local Timestamp"
      ],
      "metadata": {
        "id": "iZg3DUKY8oBe"
      }
    },
    {
      "cell_type": "markdown",
      "source": [
        "$$\n",
        "PE(\\text{position}, 2i) = \\sin\\bigg( \\frac{ \\text{position} }{10000^\\frac{2i}{d_{model}}} \\bigg)\n",
        "$$\n",
        "\n",
        "$$\n",
        "PE(\\text{position}, 2i+1) = \\cos\\bigg( \\frac{ \\text{position} }{10000^\\frac{2i}{d_{model}}} \\bigg)\n",
        "$$\n",
        "\n",
        "We can rewrite these as\n",
        "\n",
        "$$\n",
        "PE(\\text{position}, i) = \\sin\\bigg( \\frac{ \\text{position} }{10000^\\frac{i}{d_{model}}} \\bigg) \\text{ when i is even}\n",
        "$$\n",
        "\n",
        "$$\n",
        "PE(\\text{position}, i) = \\cos\\bigg( \\frac{ \\text{position} }{10000^\\frac{i-1}{d_{model}}} \\bigg) \\text{ when i is odd}\n",
        "$$"
      ],
      "metadata": {
        "id": "AwTsx1lK8tYm"
      }
    },
    {
      "cell_type": "code",
      "source": [
        "max_sequence_length = sequence_length"
      ],
      "metadata": {
        "id": "NFMJZ8Ze8j-Q"
      },
      "execution_count": null,
      "outputs": []
    },
    {
      "cell_type": "code",
      "source": [
        "even_i = torch.arange(0, d_model, 2).float()\n",
        "even_i"
      ],
      "metadata": {
        "colab": {
          "base_uri": "https://localhost:8080/"
        },
        "id": "cb5PfiEMVprJ",
        "outputId": "8cde9295-63bb-412b-e959-e7726ba00458"
      },
      "execution_count": null,
      "outputs": [
        {
          "output_type": "execute_result",
          "data": {
            "text/plain": [
              "tensor([0., 2.])"
            ]
          },
          "metadata": {},
          "execution_count": 10
        }
      ]
    },
    {
      "cell_type": "code",
      "source": [
        "even_denominator = torch.pow(10000, even_i/d_model)\n",
        "even_denominator"
      ],
      "metadata": {
        "colab": {
          "base_uri": "https://localhost:8080/"
        },
        "id": "7DWe2DF4Vuq6",
        "outputId": "6c27ba39-f22c-4598-890d-abbe4425006c"
      },
      "execution_count": null,
      "outputs": [
        {
          "output_type": "execute_result",
          "data": {
            "text/plain": [
              "tensor([  1., 100.])"
            ]
          },
          "metadata": {},
          "execution_count": 11
        }
      ]
    },
    {
      "cell_type": "code",
      "source": [
        "odd_i = torch.arange(1, d_model, 2).float()\n",
        "odd_i"
      ],
      "metadata": {
        "colab": {
          "base_uri": "https://localhost:8080/"
        },
        "id": "whS2ggteVw9z",
        "outputId": "7df92f21-487b-4f98-e714-f6d278942094"
      },
      "execution_count": null,
      "outputs": [
        {
          "output_type": "execute_result",
          "data": {
            "text/plain": [
              "tensor([1., 3.])"
            ]
          },
          "metadata": {},
          "execution_count": 12
        }
      ]
    },
    {
      "cell_type": "code",
      "source": [
        "odd_denominator = torch.pow(10000, (odd_i - 1)/d_model)\n",
        "odd_denominator"
      ],
      "metadata": {
        "colab": {
          "base_uri": "https://localhost:8080/"
        },
        "id": "qfGz7VTJVy9f",
        "outputId": "6ac37c82-5916-45d0-87a2-0c55104bfa72"
      },
      "execution_count": null,
      "outputs": [
        {
          "output_type": "execute_result",
          "data": {
            "text/plain": [
              "tensor([  1., 100.])"
            ]
          },
          "metadata": {},
          "execution_count": 13
        }
      ]
    },
    {
      "cell_type": "code",
      "source": [
        "position = torch.arange(max_sequence_length, dtype=torch.float).reshape(max_sequence_length, 1)"
      ],
      "metadata": {
        "id": "AVEKs0ULV1Ao"
      },
      "execution_count": null,
      "outputs": []
    },
    {
      "cell_type": "code",
      "source": [
        "position"
      ],
      "metadata": {
        "colab": {
          "base_uri": "https://localhost:8080/"
        },
        "id": "cyJ0sdlaV20C",
        "outputId": "a0df1442-2475-4640-f924-1789dfcb3352"
      },
      "execution_count": null,
      "outputs": [
        {
          "output_type": "execute_result",
          "data": {
            "text/plain": [
              "tensor([[0.],\n",
              "        [1.],\n",
              "        [2.],\n",
              "        [3.],\n",
              "        [4.],\n",
              "        [5.],\n",
              "        [6.],\n",
              "        [7.],\n",
              "        [8.],\n",
              "        [9.]])"
            ]
          },
          "metadata": {},
          "execution_count": 15
        }
      ]
    },
    {
      "cell_type": "code",
      "source": [
        "even_PE = torch.sin(position / even_denominator)\n",
        "odd_PE = torch.cos(position / odd_denominator)"
      ],
      "metadata": {
        "id": "_PGc28ZcV4xA"
      },
      "execution_count": null,
      "outputs": []
    },
    {
      "cell_type": "code",
      "source": [
        "even_PE, odd_PE"
      ],
      "metadata": {
        "colab": {
          "base_uri": "https://localhost:8080/"
        },
        "id": "Qk-o1XZbV62m",
        "outputId": "e97060fa-186d-40dc-d430-0087948e306a"
      },
      "execution_count": null,
      "outputs": [
        {
          "output_type": "execute_result",
          "data": {
            "text/plain": [
              "(tensor([[ 0.0000,  0.0000],\n",
              "         [ 0.8415,  0.0100],\n",
              "         [ 0.9093,  0.0200],\n",
              "         [ 0.1411,  0.0300],\n",
              "         [-0.7568,  0.0400],\n",
              "         [-0.9589,  0.0500],\n",
              "         [-0.2794,  0.0600],\n",
              "         [ 0.6570,  0.0699],\n",
              "         [ 0.9894,  0.0799],\n",
              "         [ 0.4121,  0.0899]]),\n",
              " tensor([[ 1.0000,  1.0000],\n",
              "         [ 0.5403,  0.9999],\n",
              "         [-0.4161,  0.9998],\n",
              "         [-0.9900,  0.9996],\n",
              "         [-0.6536,  0.9992],\n",
              "         [ 0.2837,  0.9988],\n",
              "         [ 0.9602,  0.9982],\n",
              "         [ 0.7539,  0.9976],\n",
              "         [-0.1455,  0.9968],\n",
              "         [-0.9111,  0.9960]]))"
            ]
          },
          "metadata": {},
          "execution_count": 17
        }
      ]
    },
    {
      "cell_type": "markdown",
      "source": [
        "`torch.sin` expects input in radians"
      ],
      "metadata": {
        "id": "Nqv2V3LYI43c"
      }
    },
    {
      "cell_type": "code",
      "source": [
        "torch.sin(torch.tensor([1]))"
      ],
      "metadata": {
        "colab": {
          "base_uri": "https://localhost:8080/"
        },
        "id": "JVEXS2CvIdYC",
        "outputId": "3059d979-708b-49a6-dde9-5e9c36c2a57f"
      },
      "execution_count": null,
      "outputs": [
        {
          "output_type": "execute_result",
          "data": {
            "text/plain": [
              "tensor([0.8415])"
            ]
          },
          "metadata": {},
          "execution_count": 38
        }
      ]
    },
    {
      "cell_type": "markdown",
      "source": [
        "Interleave by column"
      ],
      "metadata": {
        "id": "ob6AG0PjV_Ld"
      }
    },
    {
      "cell_type": "code",
      "source": [
        "position_embedding = torch.empty(even_PE.shape[0], even_PE.shape[1] + odd_PE.shape[1])\n",
        "# Fill the new tensor\n",
        "position_embedding[:, 0::2] = even_PE  # Fill columns 0, 2, 4 with even_PE\n",
        "position_embedding[:, 1::2] = odd_PE   # Fill columns 1, 3 with odd_PE"
      ],
      "metadata": {
        "id": "QRBC0AH7WACY"
      },
      "execution_count": null,
      "outputs": []
    },
    {
      "cell_type": "code",
      "source": [
        "position_embedding"
      ],
      "metadata": {
        "colab": {
          "base_uri": "https://localhost:8080/"
        },
        "id": "DBZgnhNyWBr2",
        "outputId": "d3faf97c-b3e4-4211-821f-3c2b1af7a8d2"
      },
      "execution_count": null,
      "outputs": [
        {
          "output_type": "execute_result",
          "data": {
            "text/plain": [
              "tensor([[ 0.0000,  1.0000,  0.0000,  1.0000],\n",
              "        [ 0.8415,  0.5403,  0.0100,  0.9999],\n",
              "        [ 0.9093, -0.4161,  0.0200,  0.9998],\n",
              "        [ 0.1411, -0.9900,  0.0300,  0.9996],\n",
              "        [-0.7568, -0.6536,  0.0400,  0.9992],\n",
              "        [-0.9589,  0.2837,  0.0500,  0.9988],\n",
              "        [-0.2794,  0.9602,  0.0600,  0.9982],\n",
              "        [ 0.6570,  0.7539,  0.0699,  0.9976],\n",
              "        [ 0.9894, -0.1455,  0.0799,  0.9968],\n",
              "        [ 0.4121, -0.9111,  0.0899,  0.9960]])"
            ]
          },
          "metadata": {},
          "execution_count": 19
        }
      ]
    },
    {
      "cell_type": "code",
      "source": [
        "position_embedding.shape"
      ],
      "metadata": {
        "colab": {
          "base_uri": "https://localhost:8080/"
        },
        "id": "ZEEhbwM3WDaB",
        "outputId": "5f885707-5944-44a1-88c5-d6e2d592af6c"
      },
      "execution_count": null,
      "outputs": [
        {
          "output_type": "execute_result",
          "data": {
            "text/plain": [
              "torch.Size([10, 4])"
            ]
          },
          "metadata": {},
          "execution_count": 20
        }
      ]
    },
    {
      "cell_type": "markdown",
      "source": [
        "# Global Timestamps"
      ],
      "metadata": {
        "id": "rZGOpZWEWH_d"
      }
    },
    {
      "cell_type": "markdown",
      "source": [
        "This can be learnable or fixed.\n",
        "\n",
        "If fixed, we encode each hour instance (1, 2, 3, ..., 24) based on position and \"fix\" the embeddings so they are not learnable. This logic is similar to the previous section.\n",
        "\n",
        "However, we can also make these embeddings learnable."
      ],
      "metadata": {
        "id": "oEmy2UgwWKXC"
      }
    },
    {
      "cell_type": "code",
      "source": [
        "hour_size = 24\n",
        "weekday_size = 7\n",
        "day_size = 31\n",
        "month_size = 12"
      ],
      "metadata": {
        "id": "ue5vLGHLWFOM"
      },
      "execution_count": null,
      "outputs": []
    },
    {
      "cell_type": "code",
      "source": [
        "hour_embed = nn.Embedding(hour_size, d_model)\n",
        "weekday_embed = nn.Embedding(weekday_size, d_model)\n",
        "day_embed = nn.Embedding(day_size, d_model)\n",
        "month_embed = nn.Embedding(month_size, d_model)"
      ],
      "metadata": {
        "id": "7cSGkVd7WOhN"
      },
      "execution_count": null,
      "outputs": []
    },
    {
      "cell_type": "code",
      "source": [
        "hour_embed.weight"
      ],
      "metadata": {
        "colab": {
          "base_uri": "https://localhost:8080/"
        },
        "id": "SFxE-W2FWQ74",
        "outputId": "306732e8-c96c-48bf-f2a0-7d19657a88d6"
      },
      "execution_count": null,
      "outputs": [
        {
          "output_type": "execute_result",
          "data": {
            "text/plain": [
              "Parameter containing:\n",
              "tensor([[ 0.0370, -0.6790,  0.4507, -0.6564],\n",
              "        [-0.2024,  0.5290, -1.0422, -0.7800],\n",
              "        [ 0.0370,  0.1176,  0.9344,  0.5144],\n",
              "        [ 1.8843, -1.4810, -0.4794,  0.0945],\n",
              "        [-0.5156,  1.0703, -0.7393,  0.1494],\n",
              "        [ 0.3453,  0.0355,  0.2714,  0.9125],\n",
              "        [ 0.4752,  1.0350, -1.4702, -1.0391],\n",
              "        [ 1.2276, -2.0311, -2.1486,  1.2287],\n",
              "        [ 1.5426, -0.8114, -0.1439,  2.3367],\n",
              "        [ 0.1095, -0.3748,  0.4521, -1.5516],\n",
              "        [ 0.3600,  0.3866,  0.5277,  0.8853],\n",
              "        [-1.6584,  0.4676,  0.6434,  2.6287],\n",
              "        [-1.4121,  0.6812, -1.1155, -1.6690],\n",
              "        [-0.4367,  1.0713, -1.4448,  0.6032],\n",
              "        [-0.3468,  1.2167, -1.8978,  0.1680],\n",
              "        [-0.1768,  1.1593,  0.3491,  1.2422],\n",
              "        [-0.6108,  2.5675,  2.7137,  0.1728],\n",
              "        [-0.5374,  0.6323,  1.0061,  1.0328],\n",
              "        [-0.6617, -0.1247,  1.5724,  0.8489],\n",
              "        [ 0.0042,  0.6643,  0.8872, -0.5905],\n",
              "        [ 0.2833,  2.2927,  1.7785,  0.1190],\n",
              "        [ 1.3548, -0.7082,  1.0170, -0.6474],\n",
              "        [ 1.0723,  0.8907, -1.8305, -0.0762],\n",
              "        [-0.7472,  0.4108,  0.4622,  0.0312]], requires_grad=True)"
            ]
          },
          "metadata": {},
          "execution_count": 23
        }
      ]
    },
    {
      "cell_type": "code",
      "source": [
        "hours = torch.randint(0, 23, (batch_size, sequence_length, 1))\n",
        "days = torch.randint(0, 6, (batch_size, sequence_length, 1))\n",
        "dates = torch.randint(0, 30, (batch_size, sequence_length, 1))\n",
        "months = torch.randint(0, 11, (batch_size, sequence_length, 1))\n",
        "\n",
        "# Concatenate these tensors along the last dimension\n",
        "x = torch.cat((hours, days, dates, months), dim=2)"
      ],
      "metadata": {
        "id": "8viN75wZWS8g"
      },
      "execution_count": null,
      "outputs": []
    },
    {
      "cell_type": "code",
      "source": [
        "x"
      ],
      "metadata": {
        "colab": {
          "base_uri": "https://localhost:8080/"
        },
        "id": "XVBMB4tiWVkN",
        "outputId": "24d926fd-cf05-4f59-93e2-18e72ca8babe"
      },
      "execution_count": null,
      "outputs": [
        {
          "output_type": "execute_result",
          "data": {
            "text/plain": [
              "tensor([[[12,  5, 27,  2],\n",
              "         [ 4,  1,  0, 10],\n",
              "         [12,  2, 17,  4],\n",
              "         [10,  4, 18,  7],\n",
              "         [15,  0,  4,  4],\n",
              "         [10,  3, 14,  4],\n",
              "         [17,  2, 12,  3],\n",
              "         [16,  4, 28,  1],\n",
              "         [ 0,  1, 21,  4],\n",
              "         [13,  0,  3,  7]],\n",
              "\n",
              "        [[14,  4, 24,  1],\n",
              "         [22,  0, 16,  2],\n",
              "         [ 9,  5,  4,  7],\n",
              "         [ 9,  0,  9,  8],\n",
              "         [13,  4, 15,  4],\n",
              "         [ 4,  5,  1,  3],\n",
              "         [ 1,  0, 12,  8],\n",
              "         [18,  0,  1,  5],\n",
              "         [15,  4, 16,  5],\n",
              "         [ 5,  1,  6,  8]]])"
            ]
          },
          "metadata": {},
          "execution_count": 25
        }
      ]
    },
    {
      "cell_type": "code",
      "source": [
        "x.shape"
      ],
      "metadata": {
        "colab": {
          "base_uri": "https://localhost:8080/"
        },
        "id": "pzG4_mBnWYEo",
        "outputId": "aa1bbc6b-87b7-474a-b412-3f27fe30cd1d"
      },
      "execution_count": null,
      "outputs": [
        {
          "output_type": "execute_result",
          "data": {
            "text/plain": [
              "torch.Size([2, 10, 4])"
            ]
          },
          "metadata": {},
          "execution_count": 26
        }
      ]
    },
    {
      "cell_type": "code",
      "source": [
        "hour_x = hour_embed(x[:,:,0])\n",
        "weekday_x = weekday_embed(x[:,:,1])\n",
        "day_x = day_embed(x[:,:,2])\n",
        "month_x = month_embed(x[:,:,3])\n",
        "\n",
        "global_position_embedding = hour_x + weekday_x + day_x + month_x"
      ],
      "metadata": {
        "id": "IY5uGQiPWaPe"
      },
      "execution_count": null,
      "outputs": []
    },
    {
      "cell_type": "code",
      "source": [
        "global_position_embedding"
      ],
      "metadata": {
        "colab": {
          "base_uri": "https://localhost:8080/"
        },
        "id": "dNrGhsSCWa3U",
        "outputId": "c8a7aeb5-accf-448a-8108-01e687fc1c91"
      },
      "execution_count": null,
      "outputs": [
        {
          "output_type": "execute_result",
          "data": {
            "text/plain": [
              "tensor([[[-3.8396,  0.7981,  0.3770, -1.8705],\n",
              "         [-3.5538,  2.0864, -0.3235, -0.5462],\n",
              "         [-0.4161, -2.8516, -3.8787, -4.3991],\n",
              "         [ 1.2439,  1.1240,  0.2222,  0.7697],\n",
              "         [-4.5657,  0.4786, -1.9032,  1.7100],\n",
              "         [ 1.1784,  1.8781, -0.4839,  1.4881],\n",
              "         [-2.2563, -2.2930, -1.5085,  1.3123],\n",
              "         [-2.7715,  3.6828,  2.2076,  0.0177],\n",
              "         [-0.0285, -0.1002, -0.0610, -0.9076],\n",
              "         [-3.6307,  1.3411, -1.5292, -0.2987]],\n",
              "\n",
              "        [[-2.2606,  3.0897, -2.7189,  0.6964],\n",
              "         [-6.4836, -0.6810,  0.7366,  1.0519],\n",
              "         [-1.0193,  0.3355, -0.8943, -2.0160],\n",
              "         [-4.5899, -1.5260, -2.7387,  0.8446],\n",
              "         [-0.9623,  1.7616, -0.7617, -0.0379],\n",
              "         [-2.3435,  3.0586, -0.0272,  1.2993],\n",
              "         [-5.3289,  0.0267, -2.4150,  2.6881],\n",
              "         [-4.6398,  1.1857,  2.1572,  3.4466],\n",
              "         [-3.6502,  1.0433,  0.0401,  1.9094],\n",
              "         [ 0.4882,  1.1521,  0.2325,  2.5636]]], grad_fn=<AddBackward0>)"
            ]
          },
          "metadata": {},
          "execution_count": 28
        }
      ]
    },
    {
      "cell_type": "code",
      "source": [
        "global_position_embedding.shape"
      ],
      "metadata": {
        "colab": {
          "base_uri": "https://localhost:8080/"
        },
        "id": "4XyBV4cEWen6",
        "outputId": "3bb46842-e0e3-497a-ff25-9af6daa1c997"
      },
      "execution_count": null,
      "outputs": [
        {
          "output_type": "execute_result",
          "data": {
            "text/plain": [
              "torch.Size([2, 10, 4])"
            ]
          },
          "metadata": {},
          "execution_count": 29
        }
      ]
    },
    {
      "cell_type": "markdown",
      "source": [
        "We add these projections together"
      ],
      "metadata": {
        "id": "VKjKXfJ2WfA7"
      }
    },
    {
      "cell_type": "code",
      "source": [
        "global_position_embedding.shape, projection.shape, position_embedding.shape"
      ],
      "metadata": {
        "colab": {
          "base_uri": "https://localhost:8080/"
        },
        "id": "kHsYkMapN_F-",
        "outputId": "c4f48c6d-d2a1-4cf9-87b5-14bf656b767f"
      },
      "execution_count": null,
      "outputs": [
        {
          "output_type": "execute_result",
          "data": {
            "text/plain": [
              "(torch.Size([2, 10, 4]), torch.Size([2, 10, 4]), torch.Size([10, 4]))"
            ]
          },
          "metadata": {},
          "execution_count": 30
        }
      ]
    },
    {
      "cell_type": "code",
      "source": [
        "embedding = projection + position_embedding + global_position_embedding"
      ],
      "metadata": {
        "id": "0kBKvttuWht2"
      },
      "execution_count": null,
      "outputs": []
    },
    {
      "cell_type": "code",
      "source": [
        "embedding"
      ],
      "metadata": {
        "colab": {
          "base_uri": "https://localhost:8080/"
        },
        "id": "F4PBuD7hWj2V",
        "outputId": "15373f43-e733-49ea-cb49-a6cd2fcafd50"
      },
      "execution_count": null,
      "outputs": [
        {
          "output_type": "execute_result",
          "data": {
            "text/plain": [
              "tensor([[[-3.1381e+00,  2.4911e+00,  7.3693e-01, -1.8742e+00],\n",
              "         [-1.8267e+00,  3.7567e+00,  8.5265e-01,  3.2484e-02],\n",
              "         [ 1.0784e+00, -2.0541e+00, -4.1162e+00, -2.9516e+00],\n",
              "         [ 1.3078e+00,  8.6951e-02,  5.3103e-01,  1.8424e+00],\n",
              "         [-5.2614e+00, -1.0103e-01, -2.0291e+00,  2.3418e+00],\n",
              "         [ 1.0460e+00,  2.1445e+00, -2.0775e-01,  2.3752e+00],\n",
              "         [-1.8227e+00, -8.6978e-01, -2.1059e+00,  2.2230e+00],\n",
              "         [-2.0999e+00,  5.1038e+00,  2.9993e+00,  1.0552e+00],\n",
              "         [ 1.1824e+00, -3.2982e-01,  7.8360e-01, -3.5581e-02],\n",
              "         [-2.2216e+00, -3.6277e-01, -2.4345e+00,  5.5785e-01]],\n",
              "\n",
              "        [[-2.4097e+00,  3.3258e+00, -3.7632e+00,  1.4851e+00],\n",
              "         [-6.1808e+00, -3.3520e-03,  1.2382e-01,  7.2241e-01],\n",
              "         [-1.6435e-01,  7.2418e-01, -3.0107e-01, -1.2998e+00],\n",
              "         [-4.7601e+00, -1.9307e+00, -2.9427e+00,  1.9092e+00],\n",
              "         [-1.5804e+00,  7.9812e-01, -4.7408e-01,  1.4161e+00],\n",
              "         [-3.2654e+00,  3.4182e+00,  5.3372e-01,  7.4757e-01],\n",
              "         [-3.8026e+00,  2.5945e+00, -2.2378e+00,  5.3245e+00],\n",
              "         [-4.1416e+00,  1.1534e+00,  1.8524e+00,  3.2354e+00],\n",
              "         [-2.1094e+00,  1.3065e+00, -2.2321e-01,  2.6918e+00],\n",
              "         [ 3.0975e-01,  9.5562e-01,  9.8903e-01,  2.9620e+00]]],\n",
              "       grad_fn=<AddBackward0>)"
            ]
          },
          "metadata": {},
          "execution_count": 32
        }
      ]
    },
    {
      "cell_type": "code",
      "source": [
        "embedding.shape"
      ],
      "metadata": {
        "colab": {
          "base_uri": "https://localhost:8080/"
        },
        "id": "aGYkPkCtWmuI",
        "outputId": "6f99741d-0ed9-4d59-a355-42476ee94b6c"
      },
      "execution_count": null,
      "outputs": [
        {
          "output_type": "execute_result",
          "data": {
            "text/plain": [
              "torch.Size([2, 10, 4])"
            ]
          },
          "metadata": {},
          "execution_count": 33
        }
      ]
    },
    {
      "cell_type": "markdown",
      "source": [
        "# Embedding Code"
      ],
      "metadata": {
        "id": "d6hGEYDwWnTc"
      }
    },
    {
      "cell_type": "markdown",
      "source": [
        "Let's take a look at the code in informer"
      ],
      "metadata": {
        "id": "J31zTxNjW3ES"
      }
    }
  ]
}